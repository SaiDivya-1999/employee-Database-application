{
 "cells": [
  {
   "cell_type": "markdown",
   "metadata": {},
   "source": [
    "### Final Exam Code Template ###\n",
    "__This template will guide you to complete the final exam. Grading rubrics are also provided.__\n",
    "\n",
    "__Please follow the guidelines closely when you type in your own code and test your program.__\n",
    "\n",
    "__Before working on your own code, save the template as \"Final_firstname_lastname\" so you don't change the original file and can refer to the template when necessary.__\n",
    "\n",
    "__The number of arguments mentioned below doesn't count \"self\".__"
   ]
  },
  {
   "cell_type": "code",
   "execution_count": 2,
   "metadata": {},
   "outputs": [],
   "source": [
    "#define your own Vehicle class here\n",
    "#the order of the four required positional arguments should be: make,model,year,mileage\n",
    "#please use the conventional way to define function names and refer to the following test to adjust function names \n",
    "#no need to handle exceptions here\n",
    "\n",
    "class Vehicle:\n",
    "    \n",
    "    def __init__(self, vmk, vmd, vy, vml):\n",
    "        self.__make = vmk\n",
    "        self.__model = vmd\n",
    "        self.__year = vy\n",
    "        self.__mileage = vml\n",
    "\n",
    "    def get_make(self):\n",
    "        return self.__make\n",
    "\n",
    "    def get_model(self):\n",
    "        return self.__model\n",
    "\n",
    "    def get_year(self):\n",
    "        return self.__year\n",
    "    def get_mileage(self):\n",
    "        return self.__mileage\n",
    "\n",
    "    def set_make(self, vmk):\n",
    "        self.__make = vmk\n",
    "\n",
    "    def set_model(self, vmd):\n",
    "        self.__model = vmd\n",
    "\n",
    "    def set_year(self, vy):\n",
    "        self.__year = vy\n",
    "\n",
    "    def set_mileage(self, vml):\n",
    "        self.__mileage = vml\n",
    "\n",
    "    def __str__(self):\n",
    "        return \"Make: \" + self.__make + \"; Model: \" + self.__model + \"; Year of Manufacture: \" + str(self.__year) + \"; Mileage: \" + str(self.__mileage)\n"
   ]
  },
  {
   "cell_type": "code",
   "execution_count": 3,
   "metadata": {},
   "outputs": [
    {
     "name": "stdout",
     "output_type": "stream",
     "text": [
      "Make: Honda; Model: Civic; Year of Manufacture: 2014; Mileage: 50000\n",
      "The mileage of this vehicle is: 50000\n",
      "The year of manufacture of this vehicle is: 2012\n"
     ]
    }
   ],
   "source": [
    "#do a quick test on the Vehicle class before moving forward (5 points)\n",
    "#don't change this code\n",
    "vehicle1=Vehicle(\"Honda\",\"Civic\",2014,50000)\n",
    "print(vehicle1)\n",
    "print(\"The mileage of this vehicle is:\", vehicle1.get_mileage())\n",
    "vehicle1.set_year(2012)\n",
    "print(\"The year of manufacture of this vehicle is:\", vehicle1.get_year())"
   ]
  },
  {
   "cell_type": "code",
   "execution_count": 4,
   "metadata": {},
   "outputs": [],
   "source": [
    "#define your own Employee class here\n",
    "#the order of the three required positional arguments should be: name,address,vehicle object\n",
    "#please use the conventional way to define function names and refer to the following test to adjust function names\n",
    "#use emp for short of employee in naming attributes and functions\n",
    "#no need to handle exceptions here\n",
    "\n",
    "class Employee:\n",
    "\n",
    "    def __init__(self,nm,addr,veh):\n",
    "        self.__emp_name = nm\n",
    "        self.__emp_addr = addr\n",
    "        self.__vehicle = veh\n",
    "\n",
    "    def get_emp_name(self):\n",
    "        return self.__emp_name\n",
    "\n",
    "    def get_emp_addr(self):\n",
    "        return self.__emp_addr\n",
    "\n",
    "    def get_vehicle(self):\n",
    "        return self.__vehicle\n",
    "\n",
    "    def set_emp_name(self, nm):\n",
    "        self.__emp_name = nm\n",
    "\n",
    "    def set_emp_addr(self, addr):\n",
    "        self.__emp_addr = addr\n",
    "\n",
    "    def set_vehicle(self, veh):\n",
    "        self.__vehicle = veh\n",
    "\n",
    "    def compute_compensation(self):\n",
    "        pass\n",
    "\n",
    "    def __str__(self):\n",
    "        allData = \"\\nEmployee Name: \" + self.__emp_name\n",
    "        allData += \"; Employee Address: \" + str(self.__emp_addr)\n",
    "        allData +=  \"\\n\" + self.__vehicle.__str__()\n",
    "        return allData"
   ]
  },
  {
   "cell_type": "code",
   "execution_count": 5,
   "metadata": {},
   "outputs": [
    {
     "name": "stdout",
     "output_type": "stream",
     "text": [
      "\n",
      "Employee Name: Amy; Employee Address: 100 W Campbell Road, Richardson, Texas, 75080\n",
      "Make: Honda; Model: Civic; Year of Manufacture: 2012; Mileage: 50000\n",
      "Amy lives at 100 W Campbell Road, Richardson, Texas, 75080.\n",
      "Amy owns a Honda Civic vehicle.\n",
      "Amy lives at 800 E Campbell Road, Richardson, Texas, 75080.\n"
     ]
    }
   ],
   "source": [
    "#do a quick test on the Employee class before moving forward (5 points)\n",
    "#don't change this code\n",
    "emp1=Employee(\"Amy\", \"100 W Campbell Road, Richardson, Texas, 75080\",vehicle1)\n",
    "print(emp1)\n",
    "print(\"{0} lives at {1}.\".format(emp1.get_emp_name(),emp1.get_emp_addr()))\n",
    "print(\"{0} owns a {1} {2} vehicle.\".format(emp1.get_emp_name(),emp1.get_vehicle().get_make(),emp1.get_vehicle().get_model()))\n",
    "emp1.set_emp_addr(\"800 E Campbell Road, Richardson, Texas, 75080\")\n",
    "print(\"{0} lives at {1}.\".format(emp1.get_emp_name(),emp1.get_emp_addr()))"
   ]
  },
  {
   "cell_type": "code",
   "execution_count": 6,
   "metadata": {},
   "outputs": [],
   "source": [
    "#define your own Full Time Employee class here\n",
    "#Full Time Employee class inherits from Employee class\n",
    "#the order of the four required positional arguments should be: name,address,vehicle object,salary\n",
    "#please use the conventional way to define function names and refer to the following test to adjust function names\n",
    "#see detailed requirements on compute_compensation() function and compute_reimbursement() function in the pdf file\n",
    "#no need to handle exceptions here\n",
    "\n",
    "class FullTimeEmployee(Employee):\n",
    "\n",
    "    def __init__(self, nm,addr,veh, sal):\n",
    "        Employee.__init__(self,nm,addr,veh)\n",
    "        self.__salary = sal\n",
    "\n",
    "    def get_salary(self):\n",
    "        return self.__salary\n",
    "\n",
    "    def set_salary(self, sal):\n",
    "        self.__salary = sal\n",
    "\n",
    "    def compute_compensation(self):\n",
    "        if self.__salary <= 45000:\n",
    "            annual_compensation = self.__salary * (1 - 0.18)\n",
    "        elif self.__salary <= 82000:\n",
    "            annual_compensation = (self.__salary - 45000) * (1 - 0.28) + 36900\n",
    "        else:\n",
    "            annual_compensation = (self.__salary - 82000) * (1 - 0.33) + 63540\n",
    "        return (annual_compensation/52)\n",
    "    \n",
    "    def compute_reimbursement(self,annual_expense):\n",
    "        if annual_expense <= 10000:\n",
    "            annual_reimbursement = annual_expense * (1)\n",
    "        else:\n",
    "            annual_reimbursement = (10000*1)+(annual_expense-10000)*0.5\n",
    "        return (annual_reimbursement/52)\n",
    "\n",
    "    def __str__(self):\n",
    "\n",
    "        childData = super().__str__()\n",
    "        childData = \"\\nDetails of this Full Time Employee are:\" + childData\n",
    "        childData += \"\\nSalary: \" + '{0:0.2f}'.format(self.__salary)\n",
    "        return childData"
   ]
  },
  {
   "cell_type": "code",
   "execution_count": 7,
   "metadata": {},
   "outputs": [
    {
     "name": "stdout",
     "output_type": "stream",
     "text": [
      "\n",
      "Details of this Full Time Employee are:\n",
      "Employee Name: Amy; Employee Address: 100 W Campbell Road, Richardson, Texas, 75080\n",
      "Make: Honda; Model: Civic; Year of Manufacture: 2012; Mileage: 50000\n",
      "Salary: 40000.00\n",
      "Amy has an annual salary of $40000.\n",
      "Amy has a weekly compensation of $630.77.\n",
      "Amy has a weekly reimbursement of $211.54.\n",
      "Amy has an annual salary of $50000.\n"
     ]
    }
   ],
   "source": [
    "#do a quick test on the Full Time Employee class before moving forward (5 points)\n",
    "#don't change this code\n",
    "emp2=FullTimeEmployee(\"Amy\", \"100 W Campbell Road, Richardson, Texas, 75080\", vehicle1, 40000)\n",
    "print(emp2)\n",
    "print(\"{0} has an annual salary of ${1}.\".format(emp2.get_emp_name(),emp2.get_salary()))\n",
    "print(\"{0} has a weekly compensation of ${1:0.2f}.\".format(emp2.get_emp_name(),emp2.compute_compensation()))\n",
    "print(\"{0} has a weekly reimbursement of ${1:0.2f}.\".format(emp2.get_emp_name(),emp2.compute_reimbursement(12000)))\n",
    "emp2.set_salary(50000)\n",
    "print(\"{0} has an annual salary of ${1}.\".format(emp2.get_emp_name(),emp2.get_salary()))\n"
   ]
  },
  {
   "cell_type": "code",
   "execution_count": 8,
   "metadata": {},
   "outputs": [],
   "source": [
    "#define your own Hourly Employee class here\n",
    "#Hourly Employee class inherits from Employee class\n",
    "#the order of the five required positional arguments should be: name,address,vehicle object,hours worked,hourly rate\n",
    "#please use the conventional way to define function names and refer to the following test to adjust function names\n",
    "#see detailed requirements on compute_compensation() function and compute_reimbursement() function in the pdf file\n",
    "#no need to handle exceptions here\n",
    "\n",
    "class HourlyEmployee(Employee):\n",
    "\n",
    "    def __init__(self, nm, addr, veh, hw, hr):\n",
    "        super().__init__(nm, addr, veh)\n",
    "        self.__hours_wrkd = hw\n",
    "        self.__hourly_rate = hr\n",
    "\n",
    "    def get_hours_worked(self):\n",
    "        return self.__hours_wrkd\n",
    "\n",
    "    def get_hourly_rate(self):\n",
    "        return self.__hourly_rate            \n",
    "\n",
    "    def set_hours_worked(self, hw):\n",
    "        self.__hours_wrkd = hw\n",
    "\n",
    "    def set_hourly_rate(self, hr):\n",
    "        self.__hourly_rate = hr\n",
    "\n",
    "    def compute_compensation(self):\n",
    "        if self.__hours_wrkd > 40:\n",
    "            return self.__hourly_rate * 40 + self.__hourly_rate * 1.8 * (self.__hours_wrkd - 40)\n",
    "        else:\n",
    "            return self.__hourly_rate * self.__hours_wrkd\n",
    "        \n",
    "    def compute_reimbursement(self,weekly_expense):\n",
    "        if weekly_expense <= 100:\n",
    "            weekly_reimbursement = weekly_expense * (1)\n",
    "        else:\n",
    "            weekly_reimbursement = 100\n",
    "        return weekly_reimbursement\n",
    "    \n",
    "\n",
    "    def __str__(self):\n",
    "        childData = super().__str__()\n",
    "        childData = \"\\nDetails of this Hourly Employee are:\" + childData\n",
    "        childData += \"\\nHours Worked: \" + str(self.__hours_wrkd)\n",
    "        childData += \"; Hourly Rate: \" + str(self.__hourly_rate)\n",
    "        return childData"
   ]
  },
  {
   "cell_type": "code",
   "execution_count": 9,
   "metadata": {},
   "outputs": [
    {
     "name": "stdout",
     "output_type": "stream",
     "text": [
      "\n",
      "Details of this Hourly Employee are:\n",
      "Employee Name: Grace; Employee Address: 400 W Campbell Road, Richardson, Texas, 75080\n",
      "Make: Honda; Model: Civic; Year of Manufacture: 2012; Mileage: 50000\n",
      "Hours Worked: 50; Hourly Rate: 20\n",
      "Grace works 50 hours per week at an hourly rate of $20.\n",
      "Grace has a weekly compensation of $1160.00.\n",
      "Grace has a weekly reimbursement of $100.00.\n",
      "Grace works 50 hours per week at an hourly rate of $22.\n"
     ]
    }
   ],
   "source": [
    "#do a quick test on the Hourly Employee class before moving forward (5 points)\n",
    "#don't change this code\n",
    "emp3=HourlyEmployee(\"Grace\", \"400 W Campbell Road, Richardson, Texas, 75080\", vehicle1,50,20)\n",
    "print(emp3)\n",
    "print(\"{0} works {1} hours per week at an hourly rate of ${2}.\".format(emp3.get_emp_name(),emp3.get_hours_worked(),emp3.get_hourly_rate()))\n",
    "print(\"{0} has a weekly compensation of ${1:0.2f}.\".format(emp3.get_emp_name(),emp3.compute_compensation()))\n",
    "print(\"{0} has a weekly reimbursement of ${1:0.2f}.\".format(emp3.get_emp_name(),emp3.compute_reimbursement(120)))\n",
    "emp3.set_hourly_rate(22)\n",
    "print(\"{0} works {1} hours per week at an hourly rate of ${2}.\".format(emp3.get_emp_name(),emp3.get_hours_worked(),emp3.get_hourly_rate()))\n"
   ]
  },
  {
   "cell_type": "code",
   "execution_count": 10,
   "metadata": {},
   "outputs": [],
   "source": [
    "#define your own Consultant class here\n",
    "#Consultant class inherits from Employee class\n",
    "#the order of the five required positional arguments should be: name,address,vehicle object,hours worked,project type\n",
    "#please use the conventional way to define function names and refer to the following test to adjust function names\n",
    "#see detailed requirements on compute_compensation() function and compute_reimbursement() function in the pdf file\n",
    "#no need to handle exceptions here\n",
    "\n",
    "class Consultant(Employee):\n",
    "\n",
    "    def __init__(self, nm, addr, veh, hw, pt):\n",
    "        Employee.__init__(self,nm, addr, veh)\n",
    "        self.__hours_wrkd = hw\n",
    "        self.__project_type = pt\n",
    "\n",
    "    def get_hours_worked(self):\n",
    "        return self.__hours_wrkd        \n",
    "\n",
    "    def get_project_type(self):\n",
    "        return self.__project_type\n",
    "\n",
    "    def set_hours_worked(self, hw):\n",
    "        self.__hours_wrkd = hw\n",
    "\n",
    "    def set_project_type(self, pt):\n",
    "        self.__project_type = pt\n",
    "\n",
    "    def compute_compensation(self):\n",
    "        if self.__project_type == 1:\n",
    "            hrly_rate = 55\n",
    "        elif self.__project_type == 2:\n",
    "            hrly_rate = 70\n",
    "        else:\n",
    "            hrly_rate = 85\n",
    "        return self.__hours_wrkd * hrly_rate\n",
    "    \n",
    "    def compute_reimbursement(self,con_weekly_expense):\n",
    "        if self.__project_type == 1:\n",
    "            weekly_reimbursement= con_weekly_expense*1\n",
    "        elif self.__project_type == 2:\n",
    "            weekly_reimbursement= con_weekly_expense*0.9\n",
    "        else:\n",
    "            weekly_reimbursement= con_weekly_expense*0.8\n",
    "        return weekly_reimbursement\n",
    "    \n",
    "\n",
    "    def __str__(self):\n",
    "        childData = super().__str__()\n",
    "        childData = \"\\nDetails of this Consultant are:\" + childData\n",
    "        childData += \"\\nHours Worked: \" + str(self.__hours_wrkd)\n",
    "        childData += \"; Project Type: \" + str(self.__project_type)\n",
    "        return childData"
   ]
  },
  {
   "cell_type": "code",
   "execution_count": 11,
   "metadata": {},
   "outputs": [
    {
     "name": "stdout",
     "output_type": "stream",
     "text": [
      "\n",
      "Details of this Consultant are:\n",
      "Employee Name: Michael; Employee Address: 700 W Campbell Road, Richardson, Texas, 75080\n",
      "Make: Honda; Model: Civic; Year of Manufacture: 2012; Mileage: 50000\n",
      "Hours Worked: 40; Project Type: 2\n",
      "Michael works 40 hours per week for type 2 project.\n",
      "Michael has a weekly compensation of $2800.00.\n",
      "Michael has a weekly reimbursement of $270.00.\n",
      "Michael works 35 hours per week for type 2 project.\n"
     ]
    }
   ],
   "source": [
    "#do a quick test on the Consultant class before moving forward (5 points)\n",
    "#don't change this code\n",
    "emp4=Consultant(\"Michael\", \"700 W Campbell Road, Richardson, Texas, 75080\",vehicle1,40,2)\n",
    "print(emp4)\n",
    "print(\"{0} works {1} hours per week for type {2} project.\".format(emp4.get_emp_name(),emp4.get_hours_worked(),emp4.get_project_type()))\n",
    "print(\"{0} has a weekly compensation of ${1:0.2f}.\".format(emp4.get_emp_name(),emp4.compute_compensation()))\n",
    "print(\"{0} has a weekly reimbursement of ${1:0.2f}.\".format(emp4.get_emp_name(),emp4.compute_reimbursement(300)))\n",
    "emp4.set_hours_worked(35)\n",
    "print(\"{0} works {1} hours per week for type {2} project.\".format(emp4.get_emp_name(),emp4.get_hours_worked(),emp4.get_project_type()))\n"
   ]
  },
  {
   "cell_type": "code",
   "execution_count": 12,
   "metadata": {},
   "outputs": [],
   "source": [
    "#define your own Management class here\n",
    "#Management class inherits from both Full Time Employee class and Consultant class\n",
    "#the order of the six required positional arguments should be: name, address,vehicle object, salary, hours worked, project type\n",
    "#please use the conventional way to define function names and refer to the following test to adjust function names\n",
    "#see detailed requirements on compute_compensation() function and compute_reimbursement() function in the pdf file\n",
    "#no need to handle exceptions here\n",
    "\n",
    "class Management(FullTimeEmployee,Consultant):\n",
    "    def __init__(self, nm, addr, veh, sal,hw,pt):\n",
    "            FullTimeEmployee.__init__(self,nm,addr,veh,sal)\n",
    "            Consultant.__init__(self,nm,addr,veh,hw,pt)\n",
    "            \n",
    "            \n",
    "    def compute_compensation(self):\n",
    "        total_weekly_compensation= FullTimeEmployee.compute_compensation(self)+Consultant.compute_compensation(self)\n",
    "        return total_weekly_compensation\n",
    "    \n",
    "    def compute_reimbursement(self,annual_expense,con_weekly_expense):\n",
    "        total_reimbursement = FullTimeEmployee.compute_reimbursement(self,annual_expense)+Consultant.compute_reimbursement(self,con_weekly_expense)\n",
    "        return total_reimbursement\n",
    "    \n",
    "    def __str__(self):\n",
    "        mngData= Employee.__str__(self)\n",
    "        mngData = \"\\nDetails of this Management are:\" + mngData\n",
    "        mngData+= \"\\nSalary: \" + '{0:0.2f}'.format(FullTimeEmployee.get_salary(self))\n",
    "        mngData+= \"; Hours Worked: \" + str(Consultant.get_hours_worked(self))\n",
    "        mngData+= \"; Project Type: \" + str(Consultant.get_project_type(self))\n",
    "        return mngData"
   ]
  },
  {
   "cell_type": "code",
   "execution_count": 13,
   "metadata": {},
   "outputs": [
    {
     "name": "stdout",
     "output_type": "stream",
     "text": [
      "\n",
      "Details of this Management are:\n",
      "Employee Name: Jane; Employee Address: 1000 W Campbell Road, Richardson, Texas, 75080\n",
      "Make: Honda; Model: Civic; Year of Manufacture: 2012; Mileage: 50000\n",
      "Salary: 120000.00; Hours Worked: 10; Project Type: 3\n",
      "\n",
      "\n",
      "Jane has an annual salary of $120000.\n",
      "Jane works 10 hours per week for type 3 project.\n",
      "Jane has a weekly compensation of $2561.54.\n",
      "Jane has a weekly reimbursement of $393.85.\n"
     ]
    }
   ],
   "source": [
    "#do a quick test on the Management class before moving forward (5 points)\n",
    "#don't change this code\n",
    "emp5=Management(\"Jane\", \"1000 W Campbell Road, Richardson, Texas, 75080\",vehicle1,120000,10,3)\n",
    "print(emp5)\n",
    "print(\"\\n\")\n",
    "print(\"{0} has an annual salary of ${1}.\".format(emp5.get_emp_name(),emp5.get_salary()))\n",
    "print(\"{0} works {1} hours per week for type {2} project.\".format(emp5.get_emp_name(),emp5.get_hours_worked(),emp5.get_project_type()))\n",
    "print(\"{0} has a weekly compensation of ${1:0.2f}.\".format(emp5.get_emp_name(),emp5.compute_compensation()))\n",
    "print(\"{0} has a weekly reimbursement of ${1:0.2f}.\".format(emp5.get_emp_name(),emp5.compute_reimbursement(8000,300)))\n"
   ]
  },
  {
   "cell_type": "code",
   "execution_count": 14,
   "metadata": {},
   "outputs": [],
   "source": [
    "#complete this get_emp_input() function to prepare for the main menu application\n",
    "#this function is used to ask for basic employee information and then return them: name and address\n",
    "#this function doesn't take arguement(s)\n",
    "#no need to handle exceptions here\n",
    "def get_emp_input():\n",
    "    name=input(\"Enter your name:\")\n",
    "    address= input(\"Enter your address:\")\n",
    "    return name , address"
   ]
  },
  {
   "cell_type": "code",
   "execution_count": 15,
   "metadata": {},
   "outputs": [
    {
     "name": "stdout",
     "output_type": "stream",
     "text": [
      "Enter your name:Bob\n",
      "Enter your address:350 E Campbell Road, Richardson, Texas, 75080\n",
      "Bob lives at 350 E Campbell Road, Richardson, Texas, 75080.\n"
     ]
    }
   ],
   "source": [
    "#do a quick test on the get_emp_input() function before moving forward\n",
    "#don't change this code and please use the example input\n",
    "#example input: Bob; 350 E Campbell Road, Richardson, Texas, 75080\n",
    "name, address=get_emp_input()\n",
    "print(\"{0} lives at {1}.\".format(name,address))"
   ]
  },
  {
   "cell_type": "code",
   "execution_count": 16,
   "metadata": {},
   "outputs": [],
   "source": [
    "#complete this get_vehicle_input() function to prepare for the main menu application\n",
    "#this function is used to ask for vehicle information and then return them: make,model,year,mileage\n",
    "#this function doesn't take arguement(s)\n",
    "#no need to handle exceptions of make input and model input\n",
    "#handle exceptions to make sure year is a 4-digit positive number between 1900 and 2020\n",
    "#handle exceptions to make sure mileage is a positive number\n",
    "def get_vehicle_input():\n",
    "        try:     \n",
    "            veh_make = input('Enter the vehicle make: ')\n",
    "            veh_model = input('Enter the vehicle model: ')\n",
    "            while(True):\n",
    "                veh_year = input('Enter the year: ')\n",
    "                if(int(veh_year) <1900 or int(veh_year) >2020):\n",
    "                    print('\\nvehicle year should be between 1900 and 2020.Enter again')\n",
    "                else:\n",
    "                    break\n",
    "    \n",
    "            while(True):\n",
    "                veh_mileage = input('Enter the vehicle mileage: ')\n",
    "                if(int(veh_mileage) < 0):\n",
    "                    print('\\n vehicle mileage should be a positive number.Enter again')\n",
    "                else:\n",
    "                    break               \n",
    "            return (veh_make, veh_model, veh_year, veh_mileage)\n",
    "        except ValueError as e:\n",
    "            print(\"Exception: \",e)\n",
    "    "
   ]
  },
  {
   "cell_type": "code",
   "execution_count": 17,
   "metadata": {},
   "outputs": [
    {
     "name": "stdout",
     "output_type": "stream",
     "text": [
      "Enter the vehicle make: Ford\n",
      "Enter the vehicle model: Ranger\n",
      "Enter the year: 2021\n",
      "\n",
      "vehicle year should be between 1900 and 2020.Enter again\n",
      "Enter the year: 2011\n",
      "Enter the vehicle mileage: 80000\n",
      "The vehicle entered is a Ford Ranger made in 2011 with 80000 mileage curently.\n"
     ]
    }
   ],
   "source": [
    "#do a quick test on the get_vehicle_input() function before moving forward (5 points)\n",
    "#don't change this code and please use the example input\n",
    "#example input:Ford; Ranger; 2021 (when asked to enter again enter 2011); 80000\n",
    "vehiclemake, vehiclemodel, vehicleyear, vehiclemileage = get_vehicle_input()  \n",
    "print(\"The vehicle entered is a {0} {1} made in {2} with {3} mileage curently.\".format(vehiclemake, vehiclemodel, vehicleyear, vehiclemileage))"
   ]
  },
  {
   "cell_type": "code",
   "execution_count": 18,
   "metadata": {},
   "outputs": [],
   "source": [
    "#complete this get_full_time_input() function to prepare for the main menu application\n",
    "#this function is used to ask for specific information of full time employees and then return it: annual salary\n",
    "#this function doesn't take arguement(s)\n",
    "#no need to handle exceptions\n",
    "def get_full_time_input():\n",
    "    annual_salary = input(\"Enter your annual salary:\")\n",
    "    return int(annual_salary)"
   ]
  },
  {
   "cell_type": "code",
   "execution_count": 19,
   "metadata": {},
   "outputs": [
    {
     "name": "stdout",
     "output_type": "stream",
     "text": [
      "Enter your annual salary:80000\n",
      "The annual salary entered is 80000.00\n"
     ]
    }
   ],
   "source": [
    "#do a quick test on the get_full_time_input() function before moving forward\n",
    "#don't change this code and please use the example input\n",
    "#example input:80000\n",
    "salary=get_full_time_input()\n",
    "print(\"The annual salary entered is {0:0.2f}\".format(salary))"
   ]
  },
  {
   "cell_type": "code",
   "execution_count": 20,
   "metadata": {},
   "outputs": [],
   "source": [
    "#complete this get_hourly_input() function to prepare for the main menu application\n",
    "#this function is used to ask for specific information of hourly employees and then return them: hours worked, hourly rate\n",
    "#this function doesn't take arguement(s)\n",
    "#no need to handle exceptions\n",
    "def get_hourly_input():\n",
    "    hours_worked= input(\"Enter no of hours worked:\")\n",
    "    hourly_rate = input(\"Enter hourly rate:\")\n",
    "    return int(hours_worked) , int(hourly_rate)"
   ]
  },
  {
   "cell_type": "code",
   "execution_count": 21,
   "metadata": {},
   "outputs": [
    {
     "name": "stdout",
     "output_type": "stream",
     "text": [
      "Enter no of hours worked:30\n",
      "Enter hourly rate:20\n",
      "This hourly employee works 30 hours per week at an hourly rate of $20.00\n"
     ]
    }
   ],
   "source": [
    "#do a quick test on the get_hourly_input() function before moving forward\n",
    "#don't change this code and please use the example input\n",
    "#example input: 30; 20\n",
    "hours_worked, hourly_rate = get_hourly_input()\n",
    "print(\"This hourly employee works {0} hours per week at an hourly rate of ${1:0.2f}\".format(hours_worked,hourly_rate))"
   ]
  },
  {
   "cell_type": "code",
   "execution_count": 22,
   "metadata": {},
   "outputs": [],
   "source": [
    "#complete this get_consultant_input() function to prepare for the main menu application\n",
    "#this function is used to ask for specific information of consultants and then return them: hours worked, project type\n",
    "#this function doesn't take arguement(s)\n",
    "#no need to handle exceptions\n",
    "def get_consultant_input():\n",
    "    hours_worked= input(\"Enter no of hours worked:\")\n",
    "    project_type= input(\"Enter project type:\")\n",
    "    return int(hours_worked),project_type"
   ]
  },
  {
   "cell_type": "code",
   "execution_count": 23,
   "metadata": {},
   "outputs": [
    {
     "name": "stdout",
     "output_type": "stream",
     "text": [
      "Enter no of hours worked:40\n",
      "Enter project type:2\n",
      "This consultant works 40 hours per week for type 2 project.\n"
     ]
    }
   ],
   "source": [
    "#do a quick test on the get_consultant_input() function before moving forward\n",
    "#don't change this code and please use the example input\n",
    "#example input: 40; 2\n",
    "hours_worked, project_type = get_consultant_input()\n",
    "print(\"This consultant works {0} hours per week for type {1} project.\".format(hours_worked,project_type))"
   ]
  },
  {
   "cell_type": "code",
   "execution_count": 24,
   "metadata": {},
   "outputs": [],
   "source": [
    "#complete this get_management_input() function to prepare for the main menu application\n",
    "#this function is used to ask for specific information of managements and then return them: annual salary, hours worked, project type\n",
    "#this function doesn't take arguement(s)\n",
    "#no need to handle exceptions\n",
    "def get_management_input():\n",
    "    annual_salary= input(\"Enter annual salary:\")\n",
    "    hours_worked= input(\"Enter no of hours worked:\")\n",
    "    project_type= input(\"Enter project type:\")\n",
    "    return int(annual_salary),int(hours_worked),project_type"
   ]
  },
  {
   "cell_type": "code",
   "execution_count": 25,
   "metadata": {},
   "outputs": [
    {
     "name": "stdout",
     "output_type": "stream",
     "text": [
      "Enter annual salary:100000\n",
      "Enter no of hours worked:8\n",
      "Enter project type:3\n",
      "This management has an annual salary of $100000.00. This management also works 8 hours per week additionally for type 3 project.\n"
     ]
    }
   ],
   "source": [
    "#do a quick test on the get_management_input() function before moving forward\n",
    "#don't change this code and please use the example input\n",
    "#example input: 100000; 8; 3\n",
    "salary, hours_worked, project_type = get_management_input()\n",
    "print(\"This management has an annual salary of ${0:0.2f}. This management also works {1} hours per week additionally for type {2} project.\".format(salary, hours_worked,project_type))"
   ]
  },
  {
   "cell_type": "code",
   "execution_count": 26,
   "metadata": {},
   "outputs": [],
   "source": [
    "#complete this read_file_data() function to prepare for the main menu application\n",
    "#this function is used to read information from an existing databse/binary file, which is empdata.dat in the final exam\n",
    "#this function doesn't take argument(s)\n",
    "#this function returns a list containing all employee objects stored in the database; each employee object is an element in the list; the list will also be used and updated later\n",
    "#need to handle exceptions if file doesn't exist\n",
    "# Import pickle\n",
    "import pickle\n",
    "# Define the read file data function: read_file_data\n",
    "def read_file_data():\n",
    "    my_list1 = []\n",
    "    try:\n",
    "        with open('empdata.dat', 'rb') as empdata_file:\n",
    "            while (True):\n",
    "                try:\n",
    "                    empdata = pickle.load(empdata_file)\n",
    "                    my_list1.append(empdata)\n",
    "                except EOFError:\n",
    "                    print(\"End of file\")\n",
    "                    break\n",
    "    except FileNotFoundError:\n",
    "         print(\"No file\")\n",
    "    return my_list1\n",
    "        \n",
    "    \n",
    "        \n",
    "   "
   ]
  },
  {
   "cell_type": "code",
   "execution_count": 27,
   "metadata": {},
   "outputs": [
    {
     "name": "stdout",
     "output_type": "stream",
     "text": [
      "End of file\n",
      "There are 9 employees stored in the database.\n",
      "\n",
      "Below is the information of the first employee in the database: \n",
      "Details of this Full Time Employee are:\n",
      "Employee Name: Amy; Employee Address: 100 W Campbell Road, Richardson, Texas, 75080\n",
      "Make: Honda; Model: Civic; Year of Manufacture: 2014; Mileage: 50000\n",
      "Salary: 40000.00\n",
      "\n",
      "Amy is the first employee.\n"
     ]
    }
   ],
   "source": [
    "#do a quick test on the read_file_data() function before moving forward (5 points)\n",
    "#don't change this code\n",
    "emp_list=read_file_data()\n",
    "print(\"There are {} employees stored in the database.\".format(len(emp_list)))\n",
    "print(\"\\nBelow is the information of the first employee in the database: {}\".format(emp_list[0]))\n",
    "print(\"\\n{} is the first employee.\".format(emp_list[0].get_emp_name()))"
   ]
  },
  {
   "cell_type": "code",
   "execution_count": 28,
   "metadata": {},
   "outputs": [],
   "source": [
    "#complete option 1 related code here\n",
    "#the idea is to walk through users to input required information\n",
    "#the first and foremost step is to ask for emloyee type\n",
    "#this function doesn't take arguement(s)\n",
    "#this function prints the entered object and also returns the entered object\n",
    "#some parts are provided so you don't need to change them (but you still can if you want to)\n",
    "\n",
    "def run_option1():\n",
    "    #ask for employee type\n",
    "    #exceptions need to be handled here to accept valid input \n",
    "    ##################\n",
    "    emp_type = [1, 2, 3, 4]\n",
    "    while (True):\n",
    "        try:\n",
    "            sel = int(input(\"Enter the type of the employee here: \"))\n",
    "            if sel not in emp_type:\n",
    "                raise ValueError\n",
    "            break\n",
    "        except ValueError:\n",
    "                print(\"\\nEnter a valid employee type!\\n\")\n",
    "                  \n",
    "    #call the previous get_emp_input() to ask for employee information and store the values      \n",
    "    name, address = get_emp_input()\n",
    "    \n",
    "    #call the previous get_vehicle_input() to ask for vehicle information and store the values\n",
    "    vehiclemake, vehiclemodel, vehicleyear, vehiclemileage = get_vehicle_input()    \n",
    "    \n",
    "    #create an object of Vehicle class using the prervious information\n",
    "    a_vehicle = Vehicle(vehiclemake, vehiclemodel, vehicleyear, vehiclemileage)\n",
    "    \n",
    "    #depending on previous input, call the prervious functions to ask for corresponding information\n",
    "    #then use all the required information to create an object of a certain class \n",
    "    #type 1:annual salary\n",
    "    #type 2:hours worked,hourly rate\n",
    "    #type 3:hours worked, project type\n",
    "    #type 4:annual salary, hours worked, project type\n",
    "    if sel == 1:\n",
    "        sal = get_full_time_input()\n",
    "        an_emp = FullTimeEmployee(name, address, a_vehicle,sal)\n",
    "    elif sel == 2:\n",
    "        hw, hr = get_hourly_input()\n",
    "        an_emp = HourlyEmployee(name, address, a_vehicle, hw, hr)\n",
    "    elif sel == 3:\n",
    "        hw, pt = get_consultant_input()\n",
    "        an_emp = Consultant(name, address, a_vehicle, hw, pt)\n",
    "    elif sel ==4:\n",
    "        sal, hw, pt = get_management_input()\n",
    "        an_emp = Management(name, address, a_vehicle, sal, hw, pt)\n",
    "    \n",
    "    print(an_emp)\n",
    "    \n",
    "    \n",
    "    print(\"\\n============================================================\")        \n",
    "    print(\"New employee entered successfully! Now going to the main menu.\")\n",
    "    print(\"==============================================================\")  \n",
    "    return an_emp"
   ]
  },
  {
   "cell_type": "code",
   "execution_count": 29,
   "metadata": {
    "scrolled": false
   },
   "outputs": [
    {
     "name": "stdout",
     "output_type": "stream",
     "text": [
      "Enter the type of the employee here: 5\n",
      "\n",
      "Enter a valid employee type!\n",
      "\n",
      "Enter the type of the employee here: zzz\n",
      "\n",
      "Enter a valid employee type!\n",
      "\n",
      "Enter the type of the employee here: 4\n",
      "Enter your name:David\n",
      "Enter your address:103 E Campbell Road, Richardson, Texas, 75080\n",
      "Enter the vehicle make: BMW\n",
      "Enter the vehicle model: BMW\n",
      "Enter the year: 2018\n",
      "Enter the vehicle mileage: 5000\n",
      "Enter annual salary:110000\n",
      "Enter no of hours worked:5\n",
      "Enter project type:2\n",
      "\n",
      "Details of this Management are:\n",
      "Employee Name: David; Employee Address: 103 E Campbell Road, Richardson, Texas, 75080\n",
      "Make: BMW; Model: BMW; Year of Manufacture: 2018; Mileage: 5000\n",
      "Salary: 110000.00; Hours Worked: 5; Project Type: 2\n",
      "\n",
      "============================================================\n",
      "New employee entered successfully! Now going to the main menu.\n",
      "==============================================================\n"
     ]
    },
    {
     "data": {
      "text/plain": [
       "<__main__.Management at 0x183e8debe50>"
      ]
     },
     "execution_count": 29,
     "metadata": {},
     "output_type": "execute_result"
    }
   ],
   "source": [
    "#do a quick test on the run_option1() function before moving forward (5 points)\n",
    "#don't change this code and please use the example input\n",
    "#example input: 5 (then zzz then 4); David; 103 E Campbell Road, Richardson, Texas, 75080; BMW; BMW;2018;5000;110000;5;2\n",
    "run_option1()"
   ]
  },
  {
   "cell_type": "code",
   "execution_count": 30,
   "metadata": {},
   "outputs": [],
   "source": [
    "#complete option 2 related code here\n",
    "#the function is to print centain number of employees as required by users\n",
    "#first choice:print all employees; second choice: print first 5 employees when there are at least 5 employees (print all if fewer than 5)\n",
    "#this function takes one argument, which is the emp_lst list (i.e. the list created previously which is used to store employee objects)\n",
    "#this function doesn't return anything\n",
    "#needs to handle exceptions when taking user seletions\n",
    "def run_option2(my_lst):\n",
    "    #type in your code\n",
    "    values=[1,2]\n",
    "    while True:      \n",
    "        try :\n",
    "            choice = int(input(\"Enter your choice:\"))\n",
    "            if choice not in values:\n",
    "                    raise ValueError\n",
    "            break\n",
    "        except ValueError:\n",
    "                 print(\"\\nEnter a valid choice!\\n\")\n",
    "    if choice == 1:\n",
    "        for i in my_lst:\n",
    "            print((i))\n",
    "    elif choice == 2:\n",
    "        if(len(my_lst)<5):\n",
    "            for i in my_lst:\n",
    "                print((i))\n",
    "        else:\n",
    "            for i in range(0,5):\n",
    "                print((my_lst[i]))\n",
    "                    \n",
    "        \n",
    "    "
   ]
  },
  {
   "cell_type": "code",
   "execution_count": 31,
   "metadata": {
    "scrolled": true
   },
   "outputs": [
    {
     "name": "stdout",
     "output_type": "stream",
     "text": [
      "Enter your choice:3\n",
      "\n",
      "Enter a valid choice!\n",
      "\n",
      "Enter your choice:zzz\n",
      "\n",
      "Enter a valid choice!\n",
      "\n",
      "Enter your choice:2\n",
      "\n",
      "Details of this Full Time Employee are:\n",
      "Employee Name: Amy; Employee Address: 100 W Campbell Road, Richardson, Texas, 75080\n",
      "Make: Honda; Model: Civic; Year of Manufacture: 2014; Mileage: 50000\n",
      "Salary: 40000.00\n",
      "\n",
      "Details of this Full Time Employee are:\n",
      "Employee Name: Bob; Employee Address: 200 W Campbell Road, Richardson, Texas, 75080\n",
      "Make: Toyota; Model: Camry; Year of Manufacture: 2010; Mileage: 60000\n",
      "Salary: 80000.00\n",
      "\n",
      "Details of this Full Time Employee are:\n",
      "Employee Name: Evan; Employee Address: 300 W Campbell Road, Richardson, Texas, 75080\n",
      "Make: BMW; Model: X3; Year of Manufacture: 2016; Mileage: 30000\n",
      "Salary: 120000.00\n",
      "\n",
      "Details of this Hourly Employee are:\n",
      "Employee Name: Grace; Employee Address: 400 W Campbell Road, Richardson, Texas, 75080\n",
      "Make: Kia; Model: Rio; Year of Manufacture: 2005; Mileage: 150000\n",
      "Hours Worked: 50; Hourly Rate: 20\n",
      "\n",
      "Details of this Hourly Employee are:\n",
      "Employee Name: James; Employee Address: 500 W Campbell Road, Richardson, Texas, 75080\n",
      "Make: Mazda; Model: Mazda3; Year of Manufacture: 2010; Mileage: 80000\n",
      "Hours Worked: 30; Hourly Rate: 25\n"
     ]
    }
   ],
   "source": [
    "#do a quick test on run_option2() function before moving forward (5 points)\n",
    "#don't change this code and please use the example input\n",
    "#example input: 3 (then zzz then 2)\n",
    "run_option2(emp_list)"
   ]
  },
  {
   "cell_type": "code",
   "execution_count": 32,
   "metadata": {},
   "outputs": [],
   "source": [
    "#complete option 3 related code here\n",
    "#the function is used to print compensations of all Employees\n",
    "#this function takes one argument, which is the emp_lst list (i.e. the list created previously which is used to store employee objects)\n",
    "#this function doesn't return anything\n",
    "#no need to handle exceptions\n",
    "def run_option3(my_lst):\n",
    "    print(\"\\nEmployee name and Compensation of all Employees\")\n",
    "    print(\"=================================================\")\n",
    "    \n",
    "    for i in my_lst:\n",
    "        print(\"\\n {0}'s weekly Compensation is {1}\".format(i.get_emp_name(),float(round(i.compute_compensation(),2))))"
   ]
  },
  {
   "cell_type": "code",
   "execution_count": 33,
   "metadata": {},
   "outputs": [
    {
     "name": "stdout",
     "output_type": "stream",
     "text": [
      "\n",
      "Employee name and Compensation of all Employees\n",
      "=================================================\n",
      "\n",
      " Amy's weekly Compensation is 630.77\n",
      "\n",
      " Bob's weekly Compensation is 1194.23\n",
      "\n",
      " Evan's weekly Compensation is 1711.54\n",
      "\n",
      " Grace's weekly Compensation is 1160.0\n",
      "\n",
      " James's weekly Compensation is 750.0\n",
      "\n",
      " Luna's weekly Compensation is 300.0\n",
      "\n",
      " Michael's weekly Compensation is 2200.0\n",
      "\n",
      " Tom's weekly Compensation is 3500.0\n",
      "\n",
      " Zoey's weekly Compensation is 2550.0\n"
     ]
    }
   ],
   "source": [
    "#do a quick test on run_option3() function before moving forward (5 points)\n",
    "#don't change this code and please use the example input\n",
    "run_option3(emp_list)"
   ]
  },
  {
   "cell_type": "code",
   "execution_count": 34,
   "metadata": {},
   "outputs": [],
   "source": [
    "#complete option 4 related code here\n",
    "#the function is used to search for an employee by name and the searching is NOT case sensitive\n",
    "#if there are some matching cases, print the information of all matched employees\n",
    "#if no matchng cases, print \"There is no employee matching the name you entered.\"\n",
    "#this function takes one argument, which is the emp_lst list (i.e. the list created previously which is used to store employee objects)\n",
    "#this function also returns a list of objects of the matched employees\n",
    "#no need to handle exceptions\n",
    "def run_option4(my_lst):\n",
    "    #type in your code\n",
    "    name= input(\"Enter employee name:\")\n",
    "    print(\"===========================================================================\")\n",
    "    print(\"Below is the information of all employees that match the name you entered.\")\n",
    "    print(\"============================================================================\")\n",
    "    count=0\n",
    "    matched_lst=[]\n",
    "    print(\"\")\n",
    "    for i in my_lst:\n",
    "        if i.get_emp_name().lower()==name.lower():\n",
    "            print(i)\n",
    "            count+=1\n",
    "            matched_lst.append(i)\n",
    "    if count==0:\n",
    "        print(\"There is no employee matching the name you entered.\")\n",
    "    \n",
    "    return matched_lst"
   ]
  },
  {
   "cell_type": "code",
   "execution_count": 35,
   "metadata": {
    "scrolled": true
   },
   "outputs": [
    {
     "name": "stdout",
     "output_type": "stream",
     "text": [
      "Enter employee name:TOM\n",
      "===========================================================================\n",
      "Below is the information of all employees that match the name you entered.\n",
      "============================================================================\n",
      "\n",
      "\n",
      "Details of this Consultant are:\n",
      "Employee Name: Tom; Employee Address: 800 W Campbell Road, Richardson, Texas, 75080\n",
      "Make: Mercedes-Benz; Model: GLE350; Year of Manufacture: 2018; Mileage: 30000\n",
      "Hours Worked: 50; Project Type: 2\n",
      "\n",
      "There are 1 employees matching your search.\n"
     ]
    }
   ],
   "source": [
    "#do a quick test on run_option4() function before moving forward (5 points)\n",
    "#don't change this code and please use the example input (all upper cases)\n",
    "#example input: TOM\n",
    "#part 1\n",
    "matched_emp_list=run_option4(emp_list)\n",
    "print(\"\\nThere are {} employees matching your search.\".format(len(matched_emp_list)))\n"
   ]
  },
  {
   "cell_type": "code",
   "execution_count": 36,
   "metadata": {},
   "outputs": [
    {
     "name": "stdout",
     "output_type": "stream",
     "text": [
      "Enter employee name:Hongchang\n",
      "===========================================================================\n",
      "Below is the information of all employees that match the name you entered.\n",
      "============================================================================\n",
      "\n",
      "There is no employee matching the name you entered.\n"
     ]
    },
    {
     "data": {
      "text/plain": [
       "[]"
      ]
     },
     "execution_count": 36,
     "metadata": {},
     "output_type": "execute_result"
    }
   ],
   "source": [
    "#do a quick test on run_option4() function before moving forward \n",
    "#don't change this code and please use the example input\n",
    "#example input: Hongchang\n",
    "#part 2\n",
    "run_option4(emp_list)"
   ]
  },
  {
   "cell_type": "code",
   "execution_count": 37,
   "metadata": {},
   "outputs": [],
   "source": [
    "#complete option 5 related code here\n",
    "#the function is used to show some basic statistics. They are: \n",
    "#(1) the number of employees stored in the database\n",
    "#(2) the highest weekly compensation\n",
    "#(3) the mean weekly compensation\n",
    "#(4) the number of employees who have a vehicle with over 100,000 mileage\n",
    "#this function takes one argument, which is the emp_lst list (i.e. the list created previously which is used to store employee objects)\n",
    "#this function doesn't return anything\n",
    "#no need to handle exceptions\n",
    "\n",
    "def run_option5(my_lst):\n",
    "    print(\"==========================================================\")\n",
    "    print(\"Below is the statistics of all employees in this database.\")\n",
    "    print(\"==========================================================\")\n",
    "    print(\"There are {} employees stored in this employee database\".format(len(my_lst)))\n",
    "    compensation=[]\n",
    "    mileage=[]\n",
    "    for i in my_lst:\n",
    "        compensation.append(i.compute_compensation())\n",
    "        mileage.append(i._Employee__vehicle.get_mileage())\n",
    "    print(\"The highest weekly compensation is\",max(compensation))\n",
    "    print(\"The mean weekly compensation is:\",sum(compensation)/len(compensation))\n",
    "    count=0\n",
    "    for i in mileage:\n",
    "        if int(i)>100000:\n",
    "            count+=1\n",
    "    print(\"The number of employees who have a vehicle with over 100,000 mileage is \",count)\n",
    "    "
   ]
  },
  {
   "cell_type": "code",
   "execution_count": 38,
   "metadata": {
    "scrolled": true
   },
   "outputs": [
    {
     "name": "stdout",
     "output_type": "stream",
     "text": [
      "==========================================================\n",
      "Below is the statistics of all employees in this database.\n",
      "==========================================================\n",
      "There are 9 employees stored in this employee database\n",
      "The highest weekly compensation is 3500\n",
      "The mean weekly compensation is: 1555.1709401709402\n",
      "The number of employees who have a vehicle with over 100,000 mileage is  2\n"
     ]
    }
   ],
   "source": [
    "#do a quick test on run_option5() function before moving forward (5 points)\n",
    "#don't change this code \n",
    "run_option5(emp_list)"
   ]
  },
  {
   "cell_type": "code",
   "execution_count": 39,
   "metadata": {},
   "outputs": [],
   "source": [
    "#complete option 6 related code here\n",
    "#the function is used to compute weekly reimbursement (assuming the user has the requirerd information)\n",
    "#the first step is to ask for the name of the employee (you can call run_option4() here)\n",
    "#the second step is to select one employee from the matched employees\n",
    "#the third step is to ask for required information \n",
    "#this function doesn't return anything\n",
    "#no need to handle exceptions\n",
    "def run_option6(emp_list):\n",
    "    matched_list=run_option4(emp_list)\n",
    "    choice=int(input(\"Which employee do you want to check (enter a number)?\"))\n",
    "    annual_expense=int(input(\"enter annual expense:\"))\n",
    "    emp=matched_list[choice-1]\n",
    "    print(\"######################################################\")\n",
    "    print(\"This employee should have a weekly reimbursement of ${0:0.2f}\".format(emp.compute_reimbursement(annual_expense)))\n",
    "    #type in your code"
   ]
  },
  {
   "cell_type": "code",
   "execution_count": 40,
   "metadata": {
    "scrolled": true
   },
   "outputs": [
    {
     "name": "stdout",
     "output_type": "stream",
     "text": [
      "Enter employee name:bob\n",
      "===========================================================================\n",
      "Below is the information of all employees that match the name you entered.\n",
      "============================================================================\n",
      "\n",
      "\n",
      "Details of this Full Time Employee are:\n",
      "Employee Name: Bob; Employee Address: 200 W Campbell Road, Richardson, Texas, 75080\n",
      "Make: Toyota; Model: Camry; Year of Manufacture: 2010; Mileage: 60000\n",
      "Salary: 80000.00\n",
      "Which employee do you want to check (enter a number)?1\n",
      "enter annual expense:8000\n",
      "######################################################\n",
      "This employee should have a weekly reimbursement of $153.85\n"
     ]
    }
   ],
   "source": [
    "#do a quick test on run_option6() function before moving forward (5 points)\n",
    "#don't change this code and please use the example input (all lower cases)\n",
    "#example input: bob;1;8000\n",
    "#part 1\n",
    "\n",
    "run_option6(emp_list)"
   ]
  },
  {
   "cell_type": "code",
   "execution_count": 41,
   "metadata": {},
   "outputs": [
    {
     "name": "stdout",
     "output_type": "stream",
     "text": [
      "Enter employee name:james\n",
      "===========================================================================\n",
      "Below is the information of all employees that match the name you entered.\n",
      "============================================================================\n",
      "\n",
      "\n",
      "Details of this Hourly Employee are:\n",
      "Employee Name: James; Employee Address: 500 W Campbell Road, Richardson, Texas, 75080\n",
      "Make: Mazda; Model: Mazda3; Year of Manufacture: 2010; Mileage: 80000\n",
      "Hours Worked: 30; Hourly Rate: 25\n",
      "Which employee do you want to check (enter a number)?1\n",
      "enter annual expense:130\n",
      "######################################################\n",
      "This employee should have a weekly reimbursement of $100.00\n"
     ]
    }
   ],
   "source": [
    "#do a quick test on run_option6() function before moving forward \n",
    "#don't change this code and please use the example input (all lower cases)\n",
    "#example input: james;1;130\n",
    "#part 2\n",
    "\n",
    "run_option6(emp_list)"
   ]
  },
  {
   "cell_type": "code",
   "execution_count": 42,
   "metadata": {},
   "outputs": [],
   "source": [
    "#complete option 7 related code here\n",
    "#the function is used to store changes into a new file/database (i.e. empdata_updated.dat) and exit the program\n",
    "#the first step is to double check with the user if he/she does want to exit (not case sensitive)\n",
    "#this function takes one argument, which is the emp_lst list (i.e. the list created previously which is used to store employee objects)\n",
    "#this function doesn't return anything\n",
    "#no need to handle exceptions\n",
    "\n",
    "import sys\n",
    "import pickle\n",
    "def run_option7(my_lst):\n",
    "    is_exit=input(\" You choose to exit.Are you sure (Y/N)?\")\n",
    "    if is_exit=='y' or is_exit=='Y':\n",
    "        with open('empdata_updated.dat', 'wb') as fb:\n",
    "            pickle.dump(my_lst, fb)\n",
    "            print(\"=================================\")\n",
    "            print(\"Program Successfully being closed\")\n",
    "            print(\"=================================\")\n",
    "            sys.exit(0)\n",
    "    elif is_exit=='n' or is_exit=='N':\n",
    "        print(\"=================================\")\n",
    "        print(\"Going back to selection menu\")\n",
    "        print(\"=================================\")\n",
    "        return\n",
    "    else:\n",
    "        print(\"Your input doesn't match any valid option and has been considered as 'N'.\")\n",
    "        print(\"Going back to selection menu\")"
   ]
  },
  {
   "cell_type": "code",
   "execution_count": 43,
   "metadata": {},
   "outputs": [
    {
     "name": "stdout",
     "output_type": "stream",
     "text": [
      " You choose to exit.Are you sure (Y/N)?b\n",
      "Your input doesn't match any valid option and has been considered as 'N'.\n",
      "Going back to selection menu\n"
     ]
    }
   ],
   "source": [
    "#do a quick test on run_option7() function before moving forward (5 points)\n",
    "#don't change this code and please use the example input\n",
    "#example input: b\n",
    "#part 1\n",
    "run_option7(emp_list)"
   ]
  },
  {
   "cell_type": "code",
   "execution_count": 44,
   "metadata": {},
   "outputs": [
    {
     "name": "stdout",
     "output_type": "stream",
     "text": [
      " You choose to exit.Are you sure (Y/N)?n\n",
      "=================================\n",
      "Going back to selection menu\n",
      "=================================\n"
     ]
    }
   ],
   "source": [
    "#do a quick test on run_option7() function before moving forward \n",
    "#don't change this code and please use the example input\n",
    "#example input: n\n",
    "#part 2\n",
    "run_option7(emp_list)"
   ]
  },
  {
   "cell_type": "code",
   "execution_count": 45,
   "metadata": {},
   "outputs": [
    {
     "name": "stdout",
     "output_type": "stream",
     "text": [
      " You choose to exit.Are you sure (Y/N)?y\n",
      "=================================\n",
      "Program Successfully being closed\n",
      "=================================\n"
     ]
    },
    {
     "ename": "SystemExit",
     "evalue": "0",
     "output_type": "error",
     "traceback": [
      "An exception has occurred, use %tb to see the full traceback.\n",
      "\u001b[1;31mSystemExit\u001b[0m\u001b[1;31m:\u001b[0m 0\n"
     ]
    },
    {
     "name": "stderr",
     "output_type": "stream",
     "text": [
      "C:\\Users\\SAI DIVYA\\anaconda3\\lib\\site-packages\\IPython\\core\\interactiveshell.py:3452: UserWarning: To exit: use 'exit', 'quit', or Ctrl-D.\n",
      "  warn(\"To exit: use 'exit', 'quit', or Ctrl-D.\", stacklevel=1)\n"
     ]
    }
   ],
   "source": [
    "#do a quick test on run_option7() function before moving forward \n",
    "#don't change this code and please use the example input\n",
    "#example input: y\n",
    "#part 3\n",
    "run_option7(emp_list)"
   ]
  },
  {
   "cell_type": "code",
   "execution_count": 46,
   "metadata": {},
   "outputs": [],
   "source": [
    "#complete the main application\n",
    "#the application menu provides 7 options\n",
    "#when user selects a valid option (except for 7), execute that option and come back to the menu again\n",
    "#need to handle exceptions when taking user's choice\n",
    "#this function doesn't tale any argument\n",
    "#it will work on the employ object list which is read from file empdata.dat\n",
    "def run_menu_options():\n",
    "    #read employee objects in to a list\n",
    "        emp_list = read_file_data()\n",
    "        sel=1\n",
    "        if sel <=  7 and sel >= 1:\n",
    "                print(\"\\n==== Menu ====\")\n",
    "                print(\"1. To add an employee\")\n",
    "                print(\"2. To print the name and address of employees\")\n",
    "                print(\"3. To print the employee name and compensation of all employees\")\n",
    "                print(\"4. To search for employees by name\")\n",
    "                print(\"5. To check the basic statistics of employees\")\n",
    "                print(\"6. To calculate the reimbursement of one employee\")\n",
    "                print(\"7. To exit program\")\n",
    "        try:\n",
    "            sel = int(input(\"Enter your selection : \"))\n",
    "            if sel in [1,2,3,4,5,6,7]:\n",
    "                pass\n",
    "            else:\n",
    "                raise ValueError\n",
    "        except ValueError:\n",
    "            print(\"\\n\\n=======================================\")\n",
    "            print(\"You must enter an integer between 1 and 7!\")\n",
    "            print(\"===========================================\")  \n",
    "            sel=0\n",
    "        \n",
    "        if  sel == 1:\n",
    "            emp_list.append(run_option1())\n",
    "        elif sel == 2:\n",
    "             run_option2(emp_list)\n",
    "        elif sel == 3:\n",
    "            run_option3(emp_list)\n",
    "        elif sel == 4:\n",
    "            run_option4(emp_list)\n",
    "        elif sel == 5:\n",
    "            run_option5(emp_list)\n",
    "        elif sel == 6:\n",
    "            run_option6(emp_list)\n",
    "        elif sel == 7:  \n",
    "            run_option7(emp_list)\n",
    "        else:\n",
    "            print(\"Invalid choice!\")\n",
    "        \n",
    "            "
   ]
  },
  {
   "cell_type": "code",
   "execution_count": 47,
   "metadata": {
    "scrolled": true
   },
   "outputs": [
    {
     "name": "stdout",
     "output_type": "stream",
     "text": [
      "End of file\n",
      "\n",
      "==== Menu ====\n",
      "1. To add an employee\n",
      "2. To print the name and address of employees\n",
      "3. To print the employee name and compensation of all employees\n",
      "4. To search for employees by name\n",
      "5. To check the basic statistics of employees\n",
      "6. To calculate the reimbursement of one employee\n",
      "7. To exit program\n",
      "Enter your selection : 0\n",
      "\n",
      "\n",
      "=======================================\n",
      "You must enter an integer between 1 and 7!\n",
      "===========================================\n",
      "Invalid choice!\n"
     ]
    }
   ],
   "source": [
    "#do a quick test run_menu_options() function before moving forward (5 points)\n",
    "#don't change this code and please use the example input\n",
    "#example inputs in this order: 0;8;zzz;7;n;7;y\n",
    "run_menu_options()"
   ]
  },
  {
   "cell_type": "code",
   "execution_count": 48,
   "metadata": {},
   "outputs": [
    {
     "name": "stdout",
     "output_type": "stream",
     "text": [
      "End of file\n",
      "\n",
      "==== Menu ====\n",
      "1. To add an employee\n",
      "2. To print the name and address of employees\n",
      "3. To print the employee name and compensation of all employees\n",
      "4. To search for employees by name\n",
      "5. To check the basic statistics of employees\n",
      "6. To calculate the reimbursement of one employee\n",
      "7. To exit program\n",
      "Enter your selection : 8\n",
      "\n",
      "\n",
      "=======================================\n",
      "You must enter an integer between 1 and 7!\n",
      "===========================================\n",
      "Invalid choice!\n"
     ]
    }
   ],
   "source": [
    "run_menu_options()"
   ]
  },
  {
   "cell_type": "code",
   "execution_count": 50,
   "metadata": {},
   "outputs": [
    {
     "name": "stdout",
     "output_type": "stream",
     "text": [
      "End of file\n",
      "\n",
      "==== Menu ====\n",
      "1. To add an employee\n",
      "2. To print the name and address of employees\n",
      "3. To print the employee name and compensation of all employees\n",
      "4. To search for employees by name\n",
      "5. To check the basic statistics of employees\n",
      "6. To calculate the reimbursement of one employee\n",
      "7. To exit program\n",
      "Enter your selection : 7\n",
      " You choose to exit.Are you sure (Y/N)?n\n",
      "=================================\n",
      "Going back to selection menu\n",
      "=================================\n"
     ]
    }
   ],
   "source": [
    "run_menu_options()"
   ]
  },
  {
   "cell_type": "code",
   "execution_count": 51,
   "metadata": {},
   "outputs": [
    {
     "name": "stdout",
     "output_type": "stream",
     "text": [
      "End of file\n",
      "\n",
      "==== Menu ====\n",
      "1. To add an employee\n",
      "2. To print the name and address of employees\n",
      "3. To print the employee name and compensation of all employees\n",
      "4. To search for employees by name\n",
      "5. To check the basic statistics of employees\n",
      "6. To calculate the reimbursement of one employee\n",
      "7. To exit program\n",
      "Enter your selection : 7\n",
      " You choose to exit.Are you sure (Y/N)?y\n",
      "=================================\n",
      "Program Successfully being closed\n",
      "=================================\n"
     ]
    },
    {
     "ename": "SystemExit",
     "evalue": "0",
     "output_type": "error",
     "traceback": [
      "An exception has occurred, use %tb to see the full traceback.\n",
      "\u001b[1;31mSystemExit\u001b[0m\u001b[1;31m:\u001b[0m 0\n"
     ]
    }
   ],
   "source": [
    "run_menu_options()"
   ]
  },
  {
   "cell_type": "code",
   "execution_count": 52,
   "metadata": {},
   "outputs": [
    {
     "name": "stdout",
     "output_type": "stream",
     "text": [
      "End of file\n",
      "\n",
      "==== Menu ====\n",
      "1. To add an employee\n",
      "2. To print the name and address of employees\n",
      "3. To print the employee name and compensation of all employees\n",
      "4. To search for employees by name\n",
      "5. To check the basic statistics of employees\n",
      "6. To calculate the reimbursement of one employee\n",
      "7. To exit program\n",
      "Enter your selection : 7\n",
      " You choose to exit.Are you sure (Y/N)?y\n",
      "=================================\n",
      "Program Successfully being closed\n",
      "=================================\n"
     ]
    },
    {
     "ename": "SystemExit",
     "evalue": "0",
     "output_type": "error",
     "traceback": [
      "An exception has occurred, use %tb to see the full traceback.\n",
      "\u001b[1;31mSystemExit\u001b[0m\u001b[1;31m:\u001b[0m 0\n"
     ]
    }
   ],
   "source": [
    "run_menu_options()"
   ]
  },
  {
   "cell_type": "code",
   "execution_count": 53,
   "metadata": {},
   "outputs": [
    {
     "name": "stdout",
     "output_type": "stream",
     "text": [
      "End of file\n",
      "\n",
      "==== Menu ====\n",
      "1. To add an employee\n",
      "2. To print the name and address of employees\n",
      "3. To print the employee name and compensation of all employees\n",
      "4. To search for employees by name\n",
      "5. To check the basic statistics of employees\n",
      "6. To calculate the reimbursement of one employee\n",
      "7. To exit program\n",
      "Enter your selection : 1\n",
      "Enter the type of the employee here: 4\n",
      "Enter your name:David\n",
      "Enter your address:103 E Campbell Road, Richardson, Texas, 75080\n",
      "Enter the vehicle make: BMW\n",
      "Enter the vehicle model: x3\n",
      "Enter the year: 2018\n",
      "Enter the vehicle mileage: 5000\n",
      "Enter annual salary:110000\n",
      "Enter no of hours worked:5\n",
      "Enter project type:2\n",
      "\n",
      "Details of this Management are:\n",
      "Employee Name: David; Employee Address: 103 E Campbell Road, Richardson, Texas, 75080\n",
      "Make: BMW; Model: x3; Year of Manufacture: 2018; Mileage: 5000\n",
      "Salary: 110000.00; Hours Worked: 5; Project Type: 2\n",
      "\n",
      "============================================================\n",
      "New employee entered successfully! Now going to the main menu.\n",
      "==============================================================\n",
      "End of file\n",
      "\n",
      "==== Menu ====\n",
      "1. To add an employee\n",
      "2. To print the name and address of employees\n",
      "3. To print the employee name and compensation of all employees\n",
      "4. To search for employees by name\n",
      "5. To check the basic statistics of employees\n",
      "6. To calculate the reimbursement of one employee\n",
      "7. To exit program\n",
      "Enter your selection : 1\n",
      "Enter the type of the employee here: 4\n",
      "Enter your name:Grace\n",
      "Enter your address:103 E Campbell Road, Richardson, Texas, 75080\n",
      "Enter the vehicle make: Porsche\n",
      "Enter the vehicle model: Cayenne\n",
      "Enter the year: 2019\n",
      "Enter the vehicle mileage: 3000\n",
      "Enter annual salary:150000\n",
      "Enter no of hours worked:8\n",
      "Enter project type:1\n",
      "\n",
      "Details of this Management are:\n",
      "Employee Name: Grace; Employee Address: 103 E Campbell Road, Richardson, Texas, 75080\n",
      "Make: Porsche; Model: Cayenne; Year of Manufacture: 2019; Mileage: 3000\n",
      "Salary: 150000.00; Hours Worked: 8; Project Type: 1\n",
      "\n",
      "============================================================\n",
      "New employee entered successfully! Now going to the main menu.\n",
      "==============================================================\n",
      "End of file\n",
      "\n",
      "==== Menu ====\n",
      "1. To add an employee\n",
      "2. To print the name and address of employees\n",
      "3. To print the employee name and compensation of all employees\n",
      "4. To search for employees by name\n",
      "5. To check the basic statistics of employees\n",
      "6. To calculate the reimbursement of one employee\n",
      "7. To exit program\n",
      "Enter your selection : Zoey\n",
      "\n",
      "\n",
      "=======================================\n",
      "You must enter an integer between 1 and 7!\n",
      "===========================================\n",
      "Invalid choice!\n",
      "End of file\n",
      "\n",
      "==== Menu ====\n",
      "1. To add an employee\n",
      "2. To print the name and address of employees\n",
      "3. To print the employee name and compensation of all employees\n",
      "4. To search for employees by name\n",
      "5. To check the basic statistics of employees\n",
      "6. To calculate the reimbursement of one employee\n",
      "7. To exit program\n",
      "Enter your selection : 1\n",
      "Enter the type of the employee here: 4\n",
      "Enter your name:Zoey\n",
      "Enter your address:107 E Campbell Road, Richardson, Texas, 75080\n",
      "Enter the vehicle make: Audi\n",
      "Enter the vehicle model: A3\n",
      "Enter the year: 2015\n",
      "Enter the vehicle mileage: 35000\n",
      "Enter annual salary:90000\n",
      "Enter no of hours worked:10\n",
      "Enter project type:3\n",
      "\n",
      "Details of this Management are:\n",
      "Employee Name: Zoey; Employee Address: 107 E Campbell Road, Richardson, Texas, 75080\n",
      "Make: Audi; Model: A3; Year of Manufacture: 2015; Mileage: 35000\n",
      "Salary: 90000.00; Hours Worked: 10; Project Type: 3\n",
      "\n",
      "============================================================\n",
      "New employee entered successfully! Now going to the main menu.\n",
      "==============================================================\n",
      "End of file\n",
      "\n",
      "==== Menu ====\n",
      "1. To add an employee\n",
      "2. To print the name and address of employees\n",
      "3. To print the employee name and compensation of all employees\n",
      "4. To search for employees by name\n",
      "5. To check the basic statistics of employees\n",
      "6. To calculate the reimbursement of one employee\n",
      "7. To exit program\n",
      "Enter your selection : 2\n",
      "Enter your choice:1\n",
      "\n",
      "Details of this Full Time Employee are:\n",
      "Employee Name: Amy; Employee Address: 100 W Campbell Road, Richardson, Texas, 75080\n",
      "Make: Honda; Model: Civic; Year of Manufacture: 2014; Mileage: 50000\n",
      "Salary: 40000.00\n",
      "\n",
      "Details of this Full Time Employee are:\n",
      "Employee Name: Bob; Employee Address: 200 W Campbell Road, Richardson, Texas, 75080\n",
      "Make: Toyota; Model: Camry; Year of Manufacture: 2010; Mileage: 60000\n",
      "Salary: 80000.00\n",
      "\n",
      "Details of this Full Time Employee are:\n",
      "Employee Name: Evan; Employee Address: 300 W Campbell Road, Richardson, Texas, 75080\n",
      "Make: BMW; Model: X3; Year of Manufacture: 2016; Mileage: 30000\n",
      "Salary: 120000.00\n",
      "\n",
      "Details of this Hourly Employee are:\n",
      "Employee Name: Grace; Employee Address: 400 W Campbell Road, Richardson, Texas, 75080\n",
      "Make: Kia; Model: Rio; Year of Manufacture: 2005; Mileage: 150000\n",
      "Hours Worked: 50; Hourly Rate: 20\n",
      "\n",
      "Details of this Hourly Employee are:\n",
      "Employee Name: James; Employee Address: 500 W Campbell Road, Richardson, Texas, 75080\n",
      "Make: Mazda; Model: Mazda3; Year of Manufacture: 2010; Mileage: 80000\n",
      "Hours Worked: 30; Hourly Rate: 25\n",
      "\n",
      "Details of this Hourly Employee are:\n",
      "Employee Name: Luna; Employee Address: 600 W Campbell Road, Richardson, Texas, 75080\n",
      "Make: Nissan; Model: Sentra; Year of Manufacture: 2005; Mileage: 160000\n",
      "Hours Worked: 20; Hourly Rate: 15\n",
      "\n",
      "Details of this Consultant are:\n",
      "Employee Name: Michael; Employee Address: 700 W Campbell Road, Richardson, Texas, 75080\n",
      "Make: Ford; Model: Ranger; Year of Manufacture: 2011; Mileage: 80000\n",
      "Hours Worked: 40; Project Type: 1\n",
      "\n",
      "Details of this Consultant are:\n",
      "Employee Name: Tom; Employee Address: 800 W Campbell Road, Richardson, Texas, 75080\n",
      "Make: Mercedes-Benz; Model: GLE350; Year of Manufacture: 2018; Mileage: 30000\n",
      "Hours Worked: 50; Project Type: 2\n",
      "\n",
      "Details of this Consultant are:\n",
      "Employee Name: Zoey; Employee Address: 900 W Campbell Road, Richardson, Texas, 75080\n",
      "Make: Tesla; Model: Model3; Year of Manufacture: 2018; Mileage: 15000\n",
      "Hours Worked: 30; Project Type: 3\n",
      "End of file\n",
      "\n",
      "==== Menu ====\n",
      "1. To add an employee\n",
      "2. To print the name and address of employees\n",
      "3. To print the employee name and compensation of all employees\n",
      "4. To search for employees by name\n",
      "5. To check the basic statistics of employees\n",
      "6. To calculate the reimbursement of one employee\n",
      "7. To exit program\n",
      "Enter your selection : 3\n",
      "\n",
      "Employee name and Compensation of all Employees\n",
      "=================================================\n",
      "\n",
      " Amy's weekly Compensation is 630.77\n",
      "\n",
      " Bob's weekly Compensation is 1194.23\n",
      "\n",
      " Evan's weekly Compensation is 1711.54\n",
      "\n",
      " Grace's weekly Compensation is 1160.0\n",
      "\n",
      " James's weekly Compensation is 750.0\n",
      "\n",
      " Luna's weekly Compensation is 300.0\n",
      "\n",
      " Michael's weekly Compensation is 2200.0\n",
      "\n",
      " Tom's weekly Compensation is 3500.0\n",
      "\n",
      " Zoey's weekly Compensation is 2550.0\n",
      "End of file\n",
      "\n",
      "==== Menu ====\n",
      "1. To add an employee\n",
      "2. To print the name and address of employees\n",
      "3. To print the employee name and compensation of all employees\n",
      "4. To search for employees by name\n",
      "5. To check the basic statistics of employees\n",
      "6. To calculate the reimbursement of one employee\n",
      "7. To exit program\n",
      "Enter your selection : 6\n",
      "Enter employee name:ZOEY\n",
      "===========================================================================\n",
      "Below is the information of all employees that match the name you entered.\n",
      "============================================================================\n",
      "\n",
      "\n",
      "Details of this Consultant are:\n",
      "Employee Name: Zoey; Employee Address: 900 W Campbell Road, Richardson, Texas, 75080\n",
      "Make: Tesla; Model: Model3; Year of Manufacture: 2018; Mileage: 15000\n",
      "Hours Worked: 30; Project Type: 3\n",
      "Which employee do you want to check (enter a number)?1\n",
      "enter annual expense:12030\n",
      "######################################################\n",
      "This employee should have a weekly reimbursement of $9624.00\n",
      "End of file\n",
      "\n",
      "==== Menu ====\n",
      "1. To add an employee\n",
      "2. To print the name and address of employees\n",
      "3. To print the employee name and compensation of all employees\n",
      "4. To search for employees by name\n",
      "5. To check the basic statistics of employees\n",
      "6. To calculate the reimbursement of one employee\n",
      "7. To exit program\n",
      "Enter your selection : 7\n",
      " You choose to exit.Are you sure (Y/N)?y\n"
     ]
    },
    {
     "name": "stdout",
     "output_type": "stream",
     "text": [
      "=================================\n",
      "Program Successfully being closed\n",
      "=================================\n"
     ]
    },
    {
     "ename": "SystemExit",
     "evalue": "0",
     "output_type": "error",
     "traceback": [
      "An exception has occurred, use %tb to see the full traceback.\n",
      "\u001b[1;31mSystemExit\u001b[0m\u001b[1;31m:\u001b[0m 0\n"
     ]
    }
   ],
   "source": [
    "#here comes the main test, which is splitted into several steps (20 points in total)\n",
    "\n",
    "#step 1: choose option 1 three times and enter the following three employees (5 points)\n",
    "#type 4 employee: David; 103 E Campbell Road, Richardson, Texas, 75080; BMW; X3; 2018;5000;110000;5;2\n",
    "#type 4 employee: Grace; 105 E Campbell Road, Richardson, Texas, 75080; Porsche; Cayenne; 2019;3000;150000;8;1\n",
    "#type 4 employee: Zoey; 107 E Campbell Road, Richardson, Texas, 75080; Audi; A3; 2015;35000;90000;10;3\n",
    "\n",
    "#step 2: choose option 2\n",
    "#then choose 1\n",
    "\n",
    "#step 3:choose option 3 (5 points)\n",
    "\n",
    "#step 4:choose option 4 \n",
    "#then type in: grace (all lower cases)\n",
    "\n",
    "#step 5:choose option 5 (5 points)\n",
    "\n",
    "#step 6:choose option 6 (5 points)\n",
    "#then type in: ZOEY (all upper cases); then 1; then 12030\n",
    "\n",
    "#step 7:choose option 7\n",
    "#then type in: y\n",
    "run_menu_options()\n",
    "run_menu_options()\n",
    "run_menu_options()\n",
    "run_menu_options()\n",
    "run_menu_options()\n",
    "run_menu_options()\n",
    "run_menu_options()\n",
    "run_menu_options()\n",
    "run_menu_options()"
   ]
  },
  {
   "cell_type": "code",
   "execution_count": null,
   "metadata": {},
   "outputs": [],
   "source": []
  }
 ],
 "metadata": {
  "kernelspec": {
   "display_name": "Python 3 (ipykernel)",
   "language": "python",
   "name": "python3"
  },
  "language_info": {
   "codemirror_mode": {
    "name": "ipython",
    "version": 3
   },
   "file_extension": ".py",
   "mimetype": "text/x-python",
   "name": "python",
   "nbconvert_exporter": "python",
   "pygments_lexer": "ipython3",
   "version": "3.9.7"
  }
 },
 "nbformat": 4,
 "nbformat_minor": 2
}
